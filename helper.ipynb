{
 "cells": [
  {
   "cell_type": "code",
   "execution_count": null,
   "metadata": {
    "collapsed": true
   },
   "outputs": [],
   "source": [
    "#coding=utf-8\n",
    "\n",
    "from selenium import webdriver \n",
    "from selenium.webdriver.common.keys import Keys #需要引入keys包\n",
    "from time import sleep\n",
    "\n",
    "from selenium.webdriver import ActionChains\n",
    "\n",
    "from random import randint"
   ]
  },
  {
   "cell_type": "code",
   "execution_count": 1,
   "metadata": {
    "collapsed": true
   },
   "outputs": [],
   "source": [
    "zhufu_1 = [u', 祝你元宵节快乐！', \\\n",
    "           u'，元宵节到了，祝你阖家欢乐，天天开心！',\\\n",
    "           u', 正月十五的惦念，是过元宵节的时候，想起你，希望看到你幸福的笑颜!']"
   ]
  },
  {
   "cell_type": "code",
   "execution_count": null,
   "metadata": {
    "collapsed": true
   },
   "outputs": [],
   "source": [
    "downs = ''\n",
    "previous = ''\n",
    "# driver.refresh()"
   ]
  },
  {
   "cell_type": "code",
   "execution_count": null,
   "metadata": {
    "collapsed": true
   },
   "outputs": [],
   "source": [
    "def send_msg(web_elem, zhufu):\n",
    "    web_elem.click()\n",
    "    now = driver.find_element_by_class_name('value').text\n",
    "    print now\n",
    "    \n",
    "    if driver.find_element_by_class_name('label').text in [u'Alias:', u'备注：']:\n",
    "        #nickname = driver.find_element_by_xpath('/html/body/div[1]/div/div[2]/div/div[2]/div/div/div[3]/div[1]/p').text\n",
    "        nickname = now\n",
    "    else:\n",
    "        nickname = u'朋友们'\n",
    "    sleep(1)\n",
    "    # 点击发消息\n",
    "    driver.find_element_by_class_name('action_area').click()\n",
    "    sleep(2)\n",
    "    \n",
    "    # 点击编辑框, 输入文字\n",
    "    driver.find_element_by_id('editArea').send_keys(nickname + zhufu)\n",
    "    sleep(2)\n",
    "    \n",
    "    # 点击发送\n",
    "    # driver.find_element_by_class_name('btn_send').click()\n",
    "    # sleep(3)\n",
    "    \n",
    "    driver.find_element_by_class_name('web_wechat_tab_friends').click()\n",
    "    sleep(2)"
   ]
  },
  {
   "cell_type": "code",
   "execution_count": 2,
   "metadata": {
    "collapsed": true
   },
   "outputs": [],
   "source": [
    "def go_down(web_elem):\n",
    "    '''\n",
    "    向下移动, 并返回所有有名称的元素list\n",
    "    '''\n",
    "    # web_elem是最后一个有名称的元素\n",
    "    actions = ActionChains(driver)\n",
    "\n",
    "    actions.move_to_element(web_elem).click().send_keys(Keys.DOWN).perform()\n",
    "    sleep(3)\n",
    "    \n",
    "    new_people = driver.find_elements_by_class_name('contact_item')\n",
    "    \n",
    "    print 'get new people........'\n",
    "    return new_people"
   ]
  },
  {
   "cell_type": "code",
   "execution_count": null,
   "metadata": {
    "collapsed": true
   },
   "outputs": [],
   "source": [
    "# 找到通讯录\n",
    "driver.find_element_by_class_name('web_wechat_tab_friends').click()\n",
    "sleep(4)\n",
    "\n",
    "people = driver.find_elements_by_class_name('contact_item')\n",
    "passed_text = []"
   ]
  },
  {
   "cell_type": "markdown",
   "metadata": {},
   "source": [
    "这里根据好友数量设定循环次数, 除去开头几个循环外, 后面每一个循环大概能发给3个好友. \n",
    "\n",
    "所以如果有900个好友, 可以设置为300."
   ]
  },
  {
   "cell_type": "code",
   "execution_count": null,
   "metadata": {
    "collapsed": true
   },
   "outputs": [],
   "source": [
    "# 设定循环次数, 这里是4次循环\n",
    "for k in range(4):\n",
    "    for i in people:\n",
    "        if i not in passed_text:\n",
    "            try:\n",
    "                ind = randint(0, (len(zhufu_1)-1))\n",
    "                send_msg(i, zhufu_1[ind])\n",
    "            except:\n",
    "                print 'error..........'\n",
    "                pass\n",
    "\n",
    "    passed_text = people\n",
    "\n",
    "    for j in passed_text[::-1]:\n",
    "        try:\n",
    "            people = go_down(j)\n",
    "            break\n",
    "        except:\n",
    "            pass"
   ]
  }
 ],
 "metadata": {
  "kernelspec": {
   "display_name": "Python 2",
   "language": "python",
   "name": "python2"
  },
  "language_info": {
   "codemirror_mode": {
    "name": "ipython",
    "version": 2
   },
   "file_extension": ".py",
   "mimetype": "text/x-python",
   "name": "python",
   "nbconvert_exporter": "python",
   "pygments_lexer": "ipython2",
   "version": "2.7.13"
  },
  "varInspector": {
   "cols": {
    "lenName": 16,
    "lenType": 16,
    "lenVar": 40
   },
   "kernels_config": {
    "python": {
     "delete_cmd_postfix": "",
     "delete_cmd_prefix": "del ",
     "library": "var_list.py",
     "varRefreshCmd": "print(var_dic_list())"
    },
    "r": {
     "delete_cmd_postfix": ") ",
     "delete_cmd_prefix": "rm(",
     "library": "var_list.r",
     "varRefreshCmd": "cat(var_dic_list()) "
    }
   },
   "types_to_exclude": [
    "module",
    "function",
    "builtin_function_or_method",
    "instance",
    "_Feature"
   ],
   "window_display": false
  }
 },
 "nbformat": 4,
 "nbformat_minor": 2
}
